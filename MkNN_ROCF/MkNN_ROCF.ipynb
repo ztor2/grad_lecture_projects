{
 "cells": [
  {
   "cell_type": "markdown",
   "metadata": {},
   "source": [
    "### ADVANCED ML(2020, 2nd semester): TEAM 3, OUTLIER DETECTION, ROCF PART.<br>\n",
    "<div style=\"text-align: right\"><h3> Dept. of Data Science, Jicheol, Kang</h3></div>"
   ]
  },
  {
   "cell_type": "code",
   "execution_count": 25,
   "metadata": {},
   "outputs": [],
   "source": [
    "import numpy as np\n",
    "import pandas as pd \n",
    "import matplotlib.pyplot as plt\n",
    "from sklearn.datasets import make_blobs \n",
    "from sklearn.datasets import make_moons\n",
    "from sklearn.metrics import pairwise_distances \n",
    "from scipy.sparse.csgraph import connected_components\n",
    "import warnings; warnings.filterwarnings(\"ignore\")"
   ]
  },
  {
   "cell_type": "markdown",
   "metadata": {},
   "source": [
    "Algorithms in here are based on:<br>\n",
    "- **MkNN(Mutual k-Nearest Neighbors)**: Maier, Hein, Luxburg. (2009). Optimal construction of k-nearest-neighbor graphs for identifying noisy clusters. Theoretical Computer Science, Volume 410, Issue 19, pp1749-1764.\n",
    "- **ROCF(Relative Outlier Cluster Factor)**: Huang et al. (2017). A novel outlier cluster detection algorithm without top-n parameter. Knowledge-Based Systems, Vol.121. pp32-40."
   ]
  },
  {
   "cell_type": "markdown",
   "metadata": {},
   "source": [
    "### Datasets"
   ]
  },
  {
   "cell_type": "markdown",
   "metadata": {},
   "source": [
    "**Input data shape: M x N array type**<br>\n",
    "M: # of data, N: # of feature"
   ]
  },
  {
   "cell_type": "code",
   "execution_count": 22,
   "metadata": {},
   "outputs": [],
   "source": [
    "dataset = 'ring' # or 'blob', 'moon'"
   ]
  },
  {
   "cell_type": "code",
   "execution_count": 23,
   "metadata": {},
   "outputs": [],
   "source": [
    "if dataset == 'ring':\n",
    "    X, y = make_blobs(n_samples=250, centers=5, n_features=2, random_state=3)\n",
    "    data= X\n",
    "elif dataset == 'blob':\n",
    "    data_df= pd.read_csv('https://drive.google.com/uc?export=download&id=1_ygiOJ-xEPVSIvj3OzYrXtYc0Gw_Wa3a')\n",
    "    data= data_df.values\n",
    "else:\n",
    "    X, y= make_moons(n_samples=150, noise=0.1)\n",
    "    data= X"
   ]
  },
  {
   "cell_type": "code",
   "execution_count": 24,
   "metadata": {},
   "outputs": [
    {
     "data": {
      "text/plain": [
       "<matplotlib.collections.PathCollection at 0x1b4c66ead30>"
      ]
     },
     "execution_count": 24,
     "metadata": {},
     "output_type": "execute_result"
    },
    {
     "data": {
      "image/png": "[encoded data removed]",
      "text/plain": [
       "<Figure size 480x320 with 1 Axes>"
      ]
     },
     "metadata": {
      "needs_background": "light"
     },
     "output_type": "display_data"
    }
   ],
   "source": [
    "plt.figure(figsize=(6,4), dpi=80)\n",
    "plt.title('Samples', pad=15, size=15)\n",
    "plt.scatter(data[:,0], data[:,1], s=6, c='k')"
   ]
  },
  {
   "cell_type": "markdown",
   "metadata": {},
   "source": [
    "### Settings"
   ]
  },
  {
   "cell_type": "code",
   "execution_count": 6,
   "metadata": {},
   "outputs": [],
   "source": [
    "k= 5\n",
    "outlier_threshold= 1\n",
    "ROCF_threshold= 0.6"
   ]
  },
  {
   "cell_type": "markdown",
   "metadata": {},
   "source": [
    "### MkNN outlier detection(scatter outlier)"
   ]
  },
  {
   "cell_type": "code",
   "execution_count": 7,
   "metadata": {},
   "outputs": [],
   "source": [
    "def MkNN_outlier(data, k, outlier_threshold):\n",
    "    idx_pre= [i for i in np.where(data[:,0])[0]]; idx= [(i, j) for i in idx_pre for j in idx_pre]\n",
    "    \n",
    "    data_dist_mtx = pairwise_distances(data, metric='euclidean')\n",
    "    data_dist_mtx[::1].sort()\n",
    "    \n",
    "    adj= np.zeros((len(data), len(data)))\n",
    "    \n",
    "    for i, j in idx:\n",
    "        dist= np.linalg.norm(data[i]-data[j])\n",
    "    \n",
    "        if dist <= data_dist_mtx[i][k] and dist <= data_dist_mtx[j][k]:\n",
    "            adj[i, j]= 1\n",
    "    \n",
    "    n_components, labels= connected_components(csgraph=adj, directed=False, return_labels=True)\n",
    "    clusters= np.unique(labels)\n",
    "    \n",
    "    scatter_outlier= []\n",
    "    for k in clusters:\n",
    "        a, = np.where(labels==k)\n",
    "        if len(a) <= outlier_threshold:\n",
    "            for i in a:\n",
    "                scatter_outlier.append(int(i))\n",
    "                \n",
    "    return scatter_outlier, clusters, labels, adj"
   ]
  },
  {
   "cell_type": "code",
   "execution_count": 8,
   "metadata": {},
   "outputs": [
    {
     "name": "stdout",
     "output_type": "stream",
     "text": [
      "[3, 82, 128]\n",
      "[ 0  1  2  3  4  5  6  7  8  9 10 11 12 13 14 15 16 17]\n"
     ]
    }
   ],
   "source": [
    "scatter_outliers_result, clusters, labels, adj= MkNN_outlier(data, k, outlier_threshold)\n",
    "scatter_outliers= scatter_outliers_result;\n",
    "print(scatter_outliers); print(clusters)"
   ]
  },
  {
   "cell_type": "markdown",
   "metadata": {},
   "source": [
    "### ROCF outlier detection(cluster outlier)"
   ]
  },
  {
   "cell_type": "code",
   "execution_count": 9,
   "metadata": {},
   "outputs": [],
   "source": [
    "def ROCF_outlier(data, clusters, outlier_threshold, ROCF_threshold):\n",
    "    cluster_size= {}\n",
    "    for k in clusters:\n",
    "        a, = np.where(labels==k)\n",
    "        if len(a) > outlier_threshold:\n",
    "            cluster_size[k]= len(a)\n",
    "    \n",
    "    cluster_size_sorted_dic= {k: v for k, v in sorted(cluster_size.items(), key=lambda item: item[1])}\n",
    "    cluster_size_sorted= list(cluster_size_sorted_dic.keys())\n",
    "    \n",
    "    cluster_ROCF= {}\n",
    "    for k in cluster_size_sorted[:-1]:\n",
    "        a, = np.where(labels==k)\n",
    "        b, = np.where(labels==k+1)\n",
    "\n",
    "        TL= len(b)/len(a)\n",
    "        ROCF= 1-np.exp(-(TL/len(a)))\n",
    "        cluster_ROCF[k]= ROCF\n",
    "    \n",
    "    for idx, val in enumerate(cluster_size_sorted[:-1]):\n",
    "        if cluster_ROCF[val] >= ROCF_threshold:\n",
    "            cluster_outlier= cluster_size_sorted[0:idx+1]\n",
    "            break\n",
    "        \n",
    "    return cluster_ROCF, cluster_outlier"
   ]
  },
  {
   "cell_type": "code",
   "execution_count": 10,
   "metadata": {},
   "outputs": [
    {
     "name": "stdout",
     "output_type": "stream",
     "text": [
      "{11: 0.5276334472589853, 13: 0.22119921692859512, 5: 0.960133632176275, 12: 0.19926259708319194, 17: 0.0, 16: 0.17097088181959963, 9: 0.27385096292630906, 8: 0.07515118678379518, 10: 0.03076676552365587, 7: 0.024389019935154077, 0: 0.0664866359180043, 6: 0.02117567078583471, 1: 0.023515739266867786, 2: 0.0005163955475199211}\n",
      "[11, 13, 5]\n"
     ]
    }
   ],
   "source": [
    "cluster_ROCF, cluster_outlier= ROCF_outlier(data, clusters, outlier_threshold, ROCF_threshold)\n",
    "print(cluster_ROCF); print(cluster_outlier)"
   ]
  },
  {
   "cell_type": "markdown",
   "metadata": {},
   "source": [
    "### Visualization"
   ]
  },
  {
   "cell_type": "code",
   "execution_count": 11,
   "metadata": {},
   "outputs": [],
   "source": [
    "idx_pre= [i for i in np.where(data[:,0])[0]]; idx= [(i, j) for i in idx_pre for j in idx_pre]"
   ]
  },
  {
   "cell_type": "code",
   "execution_count": 12,
   "metadata": {},
   "outputs": [
    {
     "data": {
      "image/png": "[encoded data removed]",
      "text/plain": [
       "<Figure size 480x320 with 1 Axes>"
      ]
     },
     "metadata": {
      "needs_background": "light"
     },
     "output_type": "display_data"
    }
   ],
   "source": [
    "plt.figure(figsize=(6,4), dpi=80)\n",
    "plt.title('MkNN Graph(k=5)', pad=15, size=15)\n",
    "plt.scatter(data[:,0], data[:,1], s=6, c='k')\n",
    "for i, j in idx:\n",
    "    if adj[i, j]==1:\n",
    "        plt.plot([data[:,0][i], data[:,0][j]], [data[:,1][i], data[:,1][j]], 'ko-', linewidth=0.5, markersize=2)"
   ]
  },
  {
   "cell_type": "code",
   "execution_count": 13,
   "metadata": {},
   "outputs": [],
   "source": [
    "y_rocf= list(cluster_ROCF.values())"
   ]
  },
  {
   "cell_type": "code",
   "execution_count": 14,
   "metadata": {},
   "outputs": [
    {
     "data": {
      "text/plain": [
       "<matplotlib.legend.Legend at 0x1b4c632de20>"
      ]
     },
     "execution_count": 14,
     "metadata": {},
     "output_type": "execute_result"
    },
    {
     "data": {
      "image/png": "[encoded data removed]",
      "text/plain": [
       "<Figure size 480x320 with 1 Axes>"
      ]
     },
     "metadata": {
      "needs_background": "light"
     },
     "output_type": "display_data"
    }
   ],
   "source": [
    "plt.figure(figsize=(6,4), dpi=80)\n",
    "plt.title('ROCF Graph(threshold=0.6)', pad=15, size=15)\n",
    "rf= plt.scatter(range(len(y_rocf)), y_rocf, s=20, marker='x', c='r')\n",
    "th= plt.plot((0, len(y_rocf)), (ROCF_threshold, ROCF_threshold), 'bo-', linewidth=0.5, markersize=0.1, label=\"Threshold\")\n",
    "plt.legend([rf, th[0]],[\"ROCF value\",\"Threshold\"])"
   ]
  },
  {
   "cell_type": "code",
   "execution_count": 15,
   "metadata": {},
   "outputs": [
    {
     "data": {
      "text/plain": [
       "array([], shape=(0, 250), dtype=float64)"
      ]
     },
     "execution_count": 15,
     "metadata": {},
     "output_type": "execute_result"
    }
   ],
   "source": [
    "data[:,1][labels==cluster_outlier]"
   ]
  },
  {
   "cell_type": "code",
   "execution_count": 32,
   "metadata": {
    "scrolled": true
   },
   "outputs": [
    {
     "data": {
      "image/png": "[encoded data removed]",
      "text/plain": [
       "<Figure size 480x320 with 1 Axes>"
      ]
     },
     "metadata": {
      "needs_background": "light"
     },
     "output_type": "display_data"
    }
   ],
   "source": [
    "plt.figure(figsize=(6,4), dpi=80)\n",
    "plt.title('Outlier Detection Result', pad=15, size=15)\n",
    "sc= plt.scatter(data[:,0][scatter_outliers], data[:,1][scatter_outliers], marker='x', color='r', s=30)\n",
    "for i in cluster_outlier:\n",
    "    cl= plt.scatter(data[:,0][labels==i], data[:,1][labels==i], marker='x', color='b', s=30)\n",
    "plt.legend([sc, cl],[\"Outliers by MkNN\", \"Outliers by ROCF\"], prop={'size': 6});\n",
    "for k in clusters:\n",
    "    a, = np.where(labels==k)\n",
    "    if len(a) > outlier_threshold and k not in cluster_outlier:\n",
    "        plt.scatter(data[:,0][a], data[:,1][a], marker='o', color=np.random.rand(3,) , s=10)"
   ]
  },
  {
   "cell_type": "markdown",
   "metadata": {},
   "source": [
    "### Metrics"
   ]
  },
  {
   "cell_type": "markdown",
   "metadata": {},
   "source": [
    "**Precision**: TP/PN(# of the true outliers that dataset) <br>\n",
    "**Recall**: TP/TP+FP"
   ]
  },
  {
   "cell_type": "code",
   "execution_count": 33,
   "metadata": {},
   "outputs": [],
   "source": [
    "scatter= []\n",
    "scatter.append(scatter_outliers)"
   ]
  },
  {
   "cell_type": "code",
   "execution_count": 34,
   "metadata": {},
   "outputs": [],
   "source": [
    "for k in clusters:\n",
    "    a, = np.where(labels==k)\n",
    "    if (len(a) > outlier_threshold and k in cluster_outlier):\n",
    "        a_list= [i for i in a]\n",
    "        scatter.append(a_list)\n",
    "total_outliers= []\n",
    "for i in range(len(scatter)):\n",
    "    for j in scatter[i]:\n",
    "        total_outliers.append(j)"
   ]
  },
  {
   "cell_type": "code",
   "execution_count": 35,
   "metadata": {},
   "outputs": [],
   "source": [
    "real_outliers= [128, 7, 230, 244, 49, 61, 52, 23, 65, 11, 12, 71, 99, 15, 82, 49] # sample"
   ]
  },
  {
   "cell_type": "code",
   "execution_count": 36,
   "metadata": {},
   "outputs": [
    {
     "name": "stdout",
     "output_type": "stream",
     "text": [
      "True positive outlier indices:  [82, 128, 7, 230, 244, 49]\n"
     ]
    }
   ],
   "source": [
    "true_positive= [i for i in total_outliers if i in real_outliers]; print('True positive outlier indices: ', true_positive);"
   ]
  },
  {
   "cell_type": "code",
   "execution_count": 37,
   "metadata": {},
   "outputs": [
    {
     "name": "stdout",
     "output_type": "stream",
     "text": [
      "Outlier indices detected by algorithm:  [3, 82, 128, 7, 230, 244, 49, 132, 76, 161]\n",
      "Total outlier counts detected by algorithm:  10\n",
      "\n",
      "Real outlier indices:  [128, 7, 230, 244, 49, 61, 52, 23, 65, 11, 12, 71, 99, 15, 82, 49]\n",
      "Total real outlier counts:  16\n",
      "\n",
      "True positive outlier indices:  [82, 128, 7, 230, 244, 49]\n",
      "True positive outlier counts:  6\n"
     ]
    }
   ],
   "source": [
    "print('Outlier indices detected by algorithm: ', total_outliers); print('Total outlier counts detected by algorithm: ', len(total_outliers)); print('')\n",
    "print('Real outlier indices: ', real_outliers); print('Total real outlier counts: ', len(real_outliers)); print('')\n",
    "print('True positive outlier indices: ', true_positive); print('True positive outlier counts: ', len(true_positive))"
   ]
  },
  {
   "cell_type": "code",
   "execution_count": 38,
   "metadata": {},
   "outputs": [
    {
     "name": "stdout",
     "output_type": "stream",
     "text": [
      "Precison:  0.375\n",
      "Recall :  0.6\n"
     ]
    }
   ],
   "source": [
    "precision= len(true_positive)/len(real_outliers)\n",
    "recall= len(true_positive)/len(total_outliers);\n",
    "print('Precison: ', precision); print('Recall : ', recall)"
   ]
  },
  {
   "cell_type": "code",
   "execution_count": null,
   "metadata": {},
   "outputs": [],
   "source": []
  }
 ],
 "metadata": {
  "kernelspec": {
   "display_name": "Python 3",
   "language": "python",
   "name": "python3"
  },
  "language_info": {
   "codemirror_mode": {
    "name": "ipython",
    "version": 3
   },
   "file_extension": ".py",
   "mimetype": "text/x-python",
   "name": "python",
   "nbconvert_exporter": "python",
   "pygments_lexer": "ipython3",
   "version": "3.8.3"
  }
 },
 "nbformat": 4,
 "nbformat_minor": 4
}
